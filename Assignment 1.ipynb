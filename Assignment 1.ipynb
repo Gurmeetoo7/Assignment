{
 "cells": [
  {
   "cell_type": "markdown",
   "id": "37a4557a",
   "metadata": {},
   "source": [
    "1. In the below elements which of them are values or an expression? eg:- values can be integer or string and expressions will be mathematical operators.\n",
    "* \n",
    "'hello'\n",
    "-87.8\n",
    "- \n",
    "/ \n",
    "+\t\n",
    "6 \n",
    "\n"
   ]
  },
  {
   "cell_type": "markdown",
   "id": "4ff9bede",
   "metadata": {},
   "source": [
    "\n",
    "values = ['hello',-87.8, 6]\n",
    "Expressions = ['-,/,+,*]\n",
    "               "
   ]
  },
  {
   "cell_type": "markdown",
   "id": "d6588283",
   "metadata": {},
   "source": [
    ". What is the difference between string and variable?"
   ]
  },
  {
   "cell_type": "raw",
   "id": "0ab59083",
   "metadata": {},
   "source": [
    "# Variables in programs are references to values that have types. String is simply one of the handful of types that Python uses along with various number types, collection types (list, string , tuple, dict, and set), objects and a few more."
   ]
  },
  {
   "cell_type": "markdown",
   "id": "ea972fbc",
   "metadata": {},
   "source": [
    "Q3 . Describe three data types"
   ]
  },
  {
   "cell_type": "markdown",
   "id": "a38ff767",
   "metadata": {},
   "source": [
    "Ans 1. Python Number -- Real, Complex, Float \n",
    "2. List --An ordered sequence of items \n",
    "3. Sting -A String is a sequence of Unicode characters."
   ]
  },
  {
   "cell_type": "markdown",
   "id": "3837781c",
   "metadata": {},
   "source": [
    "Q  What is an expression made up of? What do all expressions do?"
   ]
  },
  {
   "cell_type": "markdown",
   "id": "85f7ae79",
   "metadata": {},
   "source": [
    "Ans An expression is a combination of values, variables, operators, and calls to functions. Expressions need to be evaluated. If you ask Python to print an expression, the interpreter evaluates the expression and displays the result."
   ]
  },
  {
   "cell_type": "markdown",
   "id": "13a1e4a0",
   "metadata": {},
   "source": [
    "Q This assignment statements, like spam = 10. What is the difference between an expression and a statement?"
   ]
  },
  {
   "cell_type": "markdown",
   "id": "d6bcc371",
   "metadata": {},
   "source": [
    "A Python expression can be defined as any element in our program that evaluates to some value. An expression evaluates to a value. A statement does something. Statements represent an action or command e.g print statements, assignment statements"
   ]
  },
  {
   "cell_type": "markdown",
   "id": "d406c775",
   "metadata": {},
   "source": [
    "Q 6. After running the following code, what does the variable bacon contain?\n",
    "bacon = 22\n",
    "bacon + 1\n"
   ]
  },
  {
   "cell_type": "code",
   "execution_count": 2,
   "id": "dee1c41a",
   "metadata": {},
   "outputs": [],
   "source": [
    "bacon =22"
   ]
  },
  {
   "cell_type": "code",
   "execution_count": 3,
   "id": "8a86f5f3",
   "metadata": {},
   "outputs": [
    {
     "data": {
      "text/plain": [
       "23"
      ]
     },
     "execution_count": 3,
     "metadata": {},
     "output_type": "execute_result"
    }
   ],
   "source": [
    "bacon +1"
   ]
  },
  {
   "cell_type": "markdown",
   "id": "d5089f4c",
   "metadata": {},
   "source": [
    "Q 7. What should the values of the following two terms be?\n",
    "'spam' + 'spamspam'\n",
    "'spam' * 3\n"
   ]
  },
  {
   "cell_type": "code",
   "execution_count": 4,
   "id": "8ad40cd2",
   "metadata": {},
   "outputs": [
    {
     "data": {
      "text/plain": [
       "'spamspamspam'"
      ]
     },
     "execution_count": 4,
     "metadata": {},
     "output_type": "execute_result"
    }
   ],
   "source": [
    "'spam' + 'spamspam'"
   ]
  },
  {
   "cell_type": "code",
   "execution_count": 5,
   "id": "d5cc0d89",
   "metadata": {},
   "outputs": [
    {
     "data": {
      "text/plain": [
       "'spamspamspam'"
      ]
     },
     "execution_count": 5,
     "metadata": {},
     "output_type": "execute_result"
    }
   ],
   "source": [
    "'spam' * 3"
   ]
  },
  {
   "cell_type": "markdown",
   "id": "c683a7b0",
   "metadata": {},
   "source": [
    "q 8. Why is eggs a valid variable name while 100 is invalid?"
   ]
  },
  {
   "cell_type": "markdown",
   "id": "fdf2b978",
   "metadata": {},
   "source": [
    "Variable names cannot begin with a number."
   ]
  },
  {
   "cell_type": "markdown",
   "id": "71a310da",
   "metadata": {},
   "source": [
    "9. What three functions can be used to get the integer, floating-point number, or string version of a value?"
   ]
  },
  {
   "cell_type": "markdown",
   "id": "77e988e4",
   "metadata": {},
   "source": [
    "The int(), float(), and str() functions will evaluate to the integer, floating-point number, and string versions of the value passed to them."
   ]
  },
  {
   "cell_type": "markdown",
   "id": "351c84cb",
   "metadata": {},
   "source": [
    "Q Why does this expression cause an error? How can you fix it?\n",
    "\n",
    "'I have eaten ' + 99 + ' burritos.'"
   ]
  },
  {
   "cell_type": "markdown",
   "id": "cf00c8e5",
   "metadata": {},
   "source": [
    "The expression causes an error because 99 is an integer, and only strings can be concatenated to other strings with the + operator. The correct way is I have eaten ' + str(99) + ' burritos.'."
   ]
  },
  {
   "cell_type": "code",
   "execution_count": null,
   "id": "41502af5",
   "metadata": {},
   "outputs": [],
   "source": []
  },
  {
   "cell_type": "code",
   "execution_count": null,
   "id": "93db5932",
   "metadata": {},
   "outputs": [],
   "source": []
  }
 ],
 "metadata": {
  "kernelspec": {
   "display_name": "Python 3",
   "language": "python",
   "name": "python3"
  },
  "language_info": {
   "codemirror_mode": {
    "name": "ipython",
    "version": 3
   },
   "file_extension": ".py",
   "mimetype": "text/x-python",
   "name": "python",
   "nbconvert_exporter": "python",
   "pygments_lexer": "ipython3",
   "version": "3.8.8"
  }
 },
 "nbformat": 4,
 "nbformat_minor": 5
}
