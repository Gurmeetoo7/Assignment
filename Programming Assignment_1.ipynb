{
 "cells": [
  {
   "cell_type": "markdown",
   "id": "9786c778",
   "metadata": {},
   "source": [
    "1.\tWrite a Python program to print \"Hello Python\"?"
   ]
  },
  {
   "cell_type": "code",
   "execution_count": null,
   "id": "904748a2",
   "metadata": {},
   "outputs": [],
   "source": [
    "print(\"hello Python\")"
   ]
  },
  {
   "cell_type": "markdown",
   "id": "41f43f83",
   "metadata": {},
   "source": [
    "2.\tWrite a Python program to do arithmetical operations addition and division.?"
   ]
  },
  {
   "cell_type": "code",
   "execution_count": 14,
   "id": "c95a0f34",
   "metadata": {},
   "outputs": [
    {
     "name": "stdout",
     "output_type": "stream",
     "text": [
      " Please Enter the First Number: 7\n",
      " Please Enter the second number: 8\n",
      "15.0\n",
      "0.875\n"
     ]
    }
   ],
   "source": [
    "number1 = input(\" Please Enter the First Number: \")\n",
    "number2 = input(\" Please Enter the second number: \")\n",
    "\n",
    "# Using arithmetic + Operator to add two numbers\n",
    "sum = float(number1) + float(number2)\n",
    "Div = float(number1) / float(number2)\n",
    "print(sum)\n",
    "print(Div)"
   ]
  },
  {
   "cell_type": "markdown",
   "id": "efbfa285",
   "metadata": {},
   "source": [
    "3.\tWrite a Python program to find the area of a triangle?"
   ]
  },
  {
   "cell_type": "code",
   "execution_count": 25,
   "id": "31465d85",
   "metadata": {},
   "outputs": [
    {
     "name": "stdout",
     "output_type": "stream",
     "text": [
      " Please Enter the Height: 35\n",
      " Please Enter the Base: 85\n",
      "the area of the triangle is 35.0 and 85 = 1487.5\n"
     ]
    }
   ],
   "source": [
    "Height  = float(input(\" Please Enter the Height: \"))\n",
    "Base  = input(\" Please Enter the Base: \")\n",
    "Area=1/2*(float(Height)*float(Base))\n",
    "print(\"the area of the triangle is\", Height, \"and\" ,Base, \"=\", Area )\n"
   ]
  },
  {
   "cell_type": "markdown",
   "id": "6417ccc9",
   "metadata": {},
   "source": [
    "4.\tWrite a Python program to swap two variables?"
   ]
  },
  {
   "cell_type": "code",
   "execution_count": 29,
   "id": "8954b021",
   "metadata": {},
   "outputs": [
    {
     "name": "stdout",
     "output_type": "stream",
     "text": [
      " please Enter the value of a: 5\n",
      " please Enter the value of b: 6\n",
      "b is  5\n",
      "a is  6\n"
     ]
    }
   ],
   "source": [
    "a= input(\" please Enter the value of a: \")\n",
    "b= input(\" please Enter the value of b: \")\n",
    "a,b=b,a\n",
    "print(\"b is \", b)\n",
    "print(\"a is \", a)"
   ]
  },
  {
   "cell_type": "markdown",
   "id": "a1a9987f",
   "metadata": {},
   "source": [
    "5.\tWrite a Python program to generate a random number?"
   ]
  },
  {
   "cell_type": "code",
   "execution_count": 30,
   "id": "a58eeb29",
   "metadata": {},
   "outputs": [
    {
     "name": "stdout",
     "output_type": "stream",
     "text": [
      "0.20140290101805014\n"
     ]
    }
   ],
   "source": [
    "import random  \n",
    "n = random.random()  \n",
    "print(n)  "
   ]
  },
  {
   "cell_type": "code",
   "execution_count": null,
   "id": "47ad7963",
   "metadata": {},
   "outputs": [],
   "source": []
  },
  {
   "cell_type": "code",
   "execution_count": null,
   "id": "443412a7",
   "metadata": {},
   "outputs": [],
   "source": []
  }
 ],
 "metadata": {
  "kernelspec": {
   "display_name": "Python 3",
   "language": "python",
   "name": "python3"
  },
  "language_info": {
   "codemirror_mode": {
    "name": "ipython",
    "version": 3
   },
   "file_extension": ".py",
   "mimetype": "text/x-python",
   "name": "python",
   "nbconvert_exporter": "python",
   "pygments_lexer": "ipython3",
   "version": "3.8.8"
  }
 },
 "nbformat": 4,
 "nbformat_minor": 5
}
